{
 "cells": [
  {
   "cell_type": "code",
   "execution_count": 9,
   "metadata": {},
   "outputs": [],
   "source": [
    "class Person:\n",
    "    def __init__(self, nama, tinggi):\n",
    "        self.nama = nama\n",
    "        self.tinggi = tinggi\n",
    "    \n",
    "    def cetakBio(self):\n",
    "        print('Nama saya', self.nama, 'dengan tinggi badan', self.tinggi)        "
   ]
  },
  {
   "cell_type": "code",
   "execution_count": 10,
   "metadata": {},
   "outputs": [],
   "source": [
    "fuad = Person('fuad', 170)"
   ]
  },
  {
   "cell_type": "code",
   "execution_count": 11,
   "metadata": {},
   "outputs": [
    {
     "data": {
      "text/plain": [
       "170"
      ]
     },
     "execution_count": 11,
     "metadata": {},
     "output_type": "execute_result"
    }
   ],
   "source": [
    "fuad.tinggi"
   ]
  },
  {
   "cell_type": "code",
   "execution_count": 12,
   "metadata": {},
   "outputs": [
    {
     "name": "stdout",
     "output_type": "stream",
     "text": [
      "Nama saya fuad dengan tinggi badan 170\n"
     ]
    }
   ],
   "source": [
    "fuad.cetakBio()"
   ]
  },
  {
   "attachments": {},
   "cell_type": "markdown",
   "metadata": {},
   "source": [
    "# CHALLANGE"
   ]
  },
  {
   "cell_type": "code",
   "execution_count": 1,
   "metadata": {},
   "outputs": [],
   "source": [
    "# 1. Membuat class Car\n",
    "class Car():\n",
    "    def __init__(self, nama, jenis_brand, harga):\n",
    "        self.nama = nama\n",
    "        self.jenis_brand = jenis_brand\n",
    "        self.harga = harga\n",
    "    \n",
    "    def info(self):\n",
    "        print(self.nama, self.jenis_brand, self.harga)"
   ]
  },
  {
   "cell_type": "code",
   "execution_count": 2,
   "metadata": {},
   "outputs": [
    {
     "name": "stdout",
     "output_type": "stream",
     "text": [
      "Ferrari Roma Ferrari 105000\n",
      "Model S Tesla 225000\n"
     ]
    }
   ],
   "source": [
    "ferrari = Car('Ferrari Roma', \"Ferrari\", 105000)\n",
    "ferrari.info()\n",
    "\n",
    "tesla = Car(\"Model S\", \"Tesla\", 225000)\n",
    "tesla.info()"
   ]
  }
 ],
 "metadata": {
  "kernelspec": {
   "display_name": "Python 3",
   "language": "python",
   "name": "python3"
  },
  "language_info": {
   "codemirror_mode": {
    "name": "ipython",
    "version": 3
   },
   "file_extension": ".py",
   "mimetype": "text/x-python",
   "name": "python",
   "nbconvert_exporter": "python",
   "pygments_lexer": "ipython3",
   "version": "3.10.9"
  },
  "orig_nbformat": 4
 },
 "nbformat": 4,
 "nbformat_minor": 2
}
