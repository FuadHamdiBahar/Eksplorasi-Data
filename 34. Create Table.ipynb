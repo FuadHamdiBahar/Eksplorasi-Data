{
 "cells": [
  {
   "cell_type": "code",
   "execution_count": 2,
   "metadata": {},
   "outputs": [
    {
     "data": {
      "text/plain": [
       "True"
      ]
     },
     "execution_count": 2,
     "metadata": {},
     "output_type": "execute_result"
    }
   ],
   "source": [
    "import mysql.connector\n",
    "\n",
    "mysql = mysql.connector.connect(\n",
    "    host = 'localhost',\n",
    "    user = 'root',\n",
    "    password = 'root',\n",
    "    database = 'python_mysql'\n",
    ")\n",
    "\n",
    "cursor = mysql.cursor()\n",
    "\n",
    "# query = \"\"\"CREATE TABLE perguruan_tinggi \n",
    "# (id INT PRIMARY KEY AUTO_INCREMENT, \n",
    "# nama_pt VARCHAR(255) NOT NULL, \n",
    "# id_prodi SMALLINT);\"\"\"\n",
    "\n",
    "# cursor.execute(query)\n",
    "\n",
    "cursor.execute(\"DROP TABLE perguruan_tinggi\")\n",
    "\n",
    "cursor.close()"
   ]
  }
 ],
 "metadata": {
  "kernelspec": {
   "display_name": "Python 3",
   "language": "python",
   "name": "python3"
  },
  "language_info": {
   "codemirror_mode": {
    "name": "ipython",
    "version": 3
   },
   "file_extension": ".py",
   "mimetype": "text/x-python",
   "name": "python",
   "nbconvert_exporter": "python",
   "pygments_lexer": "ipython3",
   "version": "3.10.9"
  },
  "orig_nbformat": 4
 },
 "nbformat": 4,
 "nbformat_minor": 2
}
