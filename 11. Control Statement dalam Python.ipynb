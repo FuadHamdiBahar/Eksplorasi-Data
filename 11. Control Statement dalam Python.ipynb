{
 "cells": [
  {
   "cell_type": "code",
   "execution_count": 7,
   "metadata": {},
   "outputs": [
    {
     "name": "stdout",
     "output_type": "stream",
     "text": [
      "1 bilangan ganjil\n",
      "3 bilangan ganjil\n",
      "5 bilangan ganjil\n",
      "7 bilangan ganjil\n",
      "9 bilangan ganjil\n",
      "11 bilangan ganjil\n",
      "13 bilangan ganjil\n",
      "15 bilangan ganjil\n",
      "17 bilangan ganjil\n",
      "19 bilangan ganjil\n"
     ]
    }
   ],
   "source": [
    "ulang = True\n",
    "i = 0\n",
    "while ulang:\n",
    "    i += 1\n",
    "    if i % 2 == 0:\n",
    "        continue\n",
    "    \n",
    "    if i > 20:\n",
    "        break\n",
    "    \n",
    "    print(i, 'bilangan ganjil')"
   ]
  },
  {
   "cell_type": "code",
   "execution_count": 8,
   "metadata": {},
   "outputs": [
    {
     "name": "stdout",
     "output_type": "stream",
     "text": [
      "2 bilangan genap\n",
      "4 bilangan genap\n",
      "6 bilangan genap\n",
      "8 bilangan genap\n",
      "10 bilangan genap\n",
      "12 bilangan genap\n",
      "14 bilangan genap\n",
      "16 bilangan genap\n",
      "18 bilangan genap\n",
      "20 bilangan genap\n"
     ]
    }
   ],
   "source": [
    "# Challange Solution\n",
    "\n",
    "ulang = True\n",
    "i = 0\n",
    "while ulang:\n",
    "    i += 1\n",
    "    if i % 2 == 1:\n",
    "        continue\n",
    "    \n",
    "    if i > 20:\n",
    "        break\n",
    "    \n",
    "    print(i, 'bilangan genap')"
   ]
  }
 ],
 "metadata": {
  "kernelspec": {
   "display_name": "Python 3",
   "language": "python",
   "name": "python3"
  },
  "language_info": {
   "codemirror_mode": {
    "name": "ipython",
    "version": 3
   },
   "file_extension": ".py",
   "mimetype": "text/x-python",
   "name": "python",
   "nbconvert_exporter": "python",
   "pygments_lexer": "ipython3",
   "version": "3.10.9"
  },
  "orig_nbformat": 4
 },
 "nbformat": 4,
 "nbformat_minor": 2
}
