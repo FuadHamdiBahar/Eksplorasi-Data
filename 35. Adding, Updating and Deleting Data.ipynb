{
 "cells": [
  {
   "cell_type": "code",
   "execution_count": 8,
   "metadata": {},
   "outputs": [],
   "source": [
    "import mysql.connector\n",
    "\n",
    "mysql = mysql.connector.connect(\n",
    "    host = 'localhost',\n",
    "    user = 'root',\n",
    "    password = 'root',\n",
    "    database = 'python_mysql'\n",
    ")\n",
    "\n",
    "cursor = mysql.cursor()"
   ]
  },
  {
   "cell_type": "code",
   "execution_count": 9,
   "metadata": {},
   "outputs": [],
   "source": [
    "# tambah\n",
    "query = \"\"\"INSERT INTO perguruan_tinggi VALUES \n",
    "(1, 'Universitas Hasanuddin', 1)\"\"\"\n",
    "cursor.execute(query)\n",
    "mysql.commit()"
   ]
  },
  {
   "cell_type": "code",
   "execution_count": 10,
   "metadata": {},
   "outputs": [],
   "source": [
    "# update\n",
    "query = \"\"\"UPDATE perguruan_tinggi \n",
    "SET nama_pt = 'Universitas Indonesia' \n",
    "WHERE id = 1\"\"\"\n",
    "cursor.execute(query)\n",
    "mysql.commit()"
   ]
  },
  {
   "cell_type": "code",
   "execution_count": 11,
   "metadata": {},
   "outputs": [
    {
     "data": {
      "text/plain": [
       "True"
      ]
     },
     "execution_count": 11,
     "metadata": {},
     "output_type": "execute_result"
    }
   ],
   "source": [
    "# hapus\n",
    "query = \"DELETE FROM perguruan_tinggi WHERE id = 1\"\n",
    "cursor.execute(query)\n",
    "mysql.commit()\n",
    "\n",
    "cursor.close()"
   ]
  }
 ],
 "metadata": {
  "kernelspec": {
   "display_name": "Python 3",
   "language": "python",
   "name": "python3"
  },
  "language_info": {
   "codemirror_mode": {
    "name": "ipython",
    "version": 3
   },
   "file_extension": ".py",
   "mimetype": "text/x-python",
   "name": "python",
   "nbconvert_exporter": "python",
   "pygments_lexer": "ipython3",
   "version": "3.10.9"
  },
  "orig_nbformat": 4
 },
 "nbformat": 4,
 "nbformat_minor": 2
}
