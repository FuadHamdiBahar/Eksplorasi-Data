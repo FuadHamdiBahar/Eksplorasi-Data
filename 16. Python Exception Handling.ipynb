{
 "cells": [
  {
   "cell_type": "code",
   "execution_count": 10,
   "metadata": {},
   "outputs": [
    {
     "ename": "ZeroDivisionError",
     "evalue": "division by zero",
     "output_type": "error",
     "traceback": [
      "\u001b[1;31m---------------------------------------------------------------------------\u001b[0m",
      "\u001b[1;31mZeroDivisionError\u001b[0m                         Traceback (most recent call last)",
      "Cell \u001b[1;32mIn[10], line 1\u001b[0m\n\u001b[1;32m----> 1\u001b[0m division \u001b[39m=\u001b[39m \u001b[39m10\u001b[39;49m \u001b[39m/\u001b[39;49m \u001b[39m0\u001b[39;49m\n",
      "\u001b[1;31mZeroDivisionError\u001b[0m: division by zero"
     ]
    }
   ],
   "source": [
    "division = 10 / 0"
   ]
  },
  {
   "cell_type": "code",
   "execution_count": 11,
   "metadata": {},
   "outputs": [
    {
     "name": "stdout",
     "output_type": "stream",
     "text": [
      "division by zero\n",
      "0\n"
     ]
    }
   ],
   "source": [
    "division = 0\n",
    "try:\n",
    "    division = 10 / 0\n",
    "except Exception as e:\n",
    "    print(e)\n",
    "\n",
    "print(division)"
   ]
  },
  {
   "cell_type": "code",
   "execution_count": 12,
   "metadata": {},
   "outputs": [
    {
     "name": "stdout",
     "output_type": "stream",
     "text": [
      "division by zero\n"
     ]
    }
   ],
   "source": [
    "try:\n",
    "    division = 10 / 0\n",
    "except ZeroDivisionError as zde:\n",
    "    print(zde)\n",
    "except TypeError as te:\n",
    "    print(te)\n",
    "except Exception as e:\n",
    "    print(e)"
   ]
  },
  {
   "cell_type": "code",
   "execution_count": 9,
   "metadata": {},
   "outputs": [
    {
     "ename": "TypeError",
     "evalue": "Person() takes no arguments",
     "output_type": "error",
     "traceback": [
      "\u001b[1;31m---------------------------------------------------------------------------\u001b[0m",
      "\u001b[1;31mTypeError\u001b[0m                                 Traceback (most recent call last)",
      "Cell \u001b[1;32mIn[9], line 5\u001b[0m\n\u001b[0;32m      2\u001b[0m     \u001b[39mdef\u001b[39;00m \u001b[39mcetakBio\u001b[39m(\u001b[39mself\u001b[39m):\n\u001b[0;32m      3\u001b[0m         \u001b[39mprint\u001b[39m(\u001b[39mself\u001b[39m\u001b[39m.\u001b[39mnama, \u001b[39mself\u001b[39m\u001b[39m.\u001b[39mtinggi)\n\u001b[1;32m----> 5\u001b[0m fuad \u001b[39m=\u001b[39m Person(\u001b[39m\"\u001b[39;49m\u001b[39mFUAD\u001b[39;49m\u001b[39m\"\u001b[39;49m)\n\u001b[0;32m      6\u001b[0m \u001b[39m# fuad.cetakBio()\u001b[39;00m\n",
      "\u001b[1;31mTypeError\u001b[0m: Person() takes no arguments"
     ]
    }
   ],
   "source": [
    "class Person():\n",
    "    def cetakBio(self):\n",
    "        print(self.nama, self.tinggi)\n",
    "\n",
    "fuad = Person(\"FUAD\")\n",
    "# fuad.cetakBio()"
   ]
  },
  {
   "cell_type": "code",
   "execution_count": null,
   "metadata": {},
   "outputs": [],
   "source": []
  }
 ],
 "metadata": {
  "kernelspec": {
   "display_name": "Python 3",
   "language": "python",
   "name": "python3"
  },
  "language_info": {
   "codemirror_mode": {
    "name": "ipython",
    "version": 3
   },
   "file_extension": ".py",
   "mimetype": "text/x-python",
   "name": "python",
   "nbconvert_exporter": "python",
   "pygments_lexer": "ipython3",
   "version": "3.10.9"
  },
  "orig_nbformat": 4
 },
 "nbformat": 4,
 "nbformat_minor": 2
}
