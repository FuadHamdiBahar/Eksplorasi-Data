{
 "cells": [
  {
   "cell_type": "code",
   "execution_count": 5,
   "metadata": {},
   "outputs": [],
   "source": [
    "sesuatu = True\n",
    "\n",
    "# create function\n",
    "def namafungsi():\n",
    "    # statement\n",
    "    return sesuatu"
   ]
  },
  {
   "cell_type": "code",
   "execution_count": 6,
   "metadata": {},
   "outputs": [
    {
     "name": "stdout",
     "output_type": "stream",
     "text": [
      "I love you 0 x\n",
      "I love you 1 x\n",
      "I love you 2 x\n",
      "I love you 3 x\n",
      "I love you 4 x\n",
      "I love you 5 x\n",
      "I love you 6 x\n",
      "I love you 7 x\n",
      "I love you 8 x\n",
      "I love you 9 x\n"
     ]
    }
   ],
   "source": [
    "# function without argument\n",
    "def printdata():\n",
    "    for i in range(10):\n",
    "        print(\"I love you\", i, \"x\")\n",
    "        \n",
    "printdata()"
   ]
  },
  {
   "cell_type": "code",
   "execution_count": 7,
   "metadata": {},
   "outputs": [
    {
     "name": "stdout",
     "output_type": "stream",
     "text": [
      "Nama saya fuad dengan tinggi badan 170\n"
     ]
    }
   ],
   "source": [
    "# function with argument\n",
    "def printinfo(nama, tinggi):\n",
    "    print(\"Nama saya\", nama, \"dengan tinggi badan\", tinggi)\n",
    "\n",
    "printinfo('fuad', 170)"
   ]
  },
  {
   "cell_type": "code",
   "execution_count": 8,
   "metadata": {},
   "outputs": [
    {
     "name": "stdout",
     "output_type": "stream",
     "text": [
      "I love you 0 x\n",
      "I love you 1 x\n",
      "I love you 2 x\n",
      "I love you 3 x\n",
      "I love you 4 x\n",
      "I love you 5 x\n",
      "I love you 6 x\n",
      "I love you 7 x\n",
      "I love you 8 x\n",
      "I love you 9 x\n",
      "Nama saya fuad dengan tinggi badan 170\n"
     ]
    }
   ],
   "source": [
    "# calling function\n",
    "\n",
    "printdata()\n",
    "printinfo('fuad', 170)"
   ]
  },
  {
   "cell_type": "code",
   "execution_count": 13,
   "metadata": {},
   "outputs": [],
   "source": [
    "# Challange\n",
    "def function(n):\n",
    "    sum = 0\n",
    "    for i in range(n+1):\n",
    "        sum += i\n",
    "    \n",
    "    return sum"
   ]
  },
  {
   "cell_type": "code",
   "execution_count": 19,
   "metadata": {},
   "outputs": [
    {
     "data": {
      "text/plain": [
       "15"
      ]
     },
     "execution_count": 19,
     "metadata": {},
     "output_type": "execute_result"
    }
   ],
   "source": [
    "function(5)"
   ]
  }
 ],
 "metadata": {
  "kernelspec": {
   "display_name": "Python 3",
   "language": "python",
   "name": "python3"
  },
  "language_info": {
   "codemirror_mode": {
    "name": "ipython",
    "version": 3
   },
   "file_extension": ".py",
   "mimetype": "text/x-python",
   "name": "python",
   "nbconvert_exporter": "python",
   "pygments_lexer": "ipython3",
   "version": "3.10.9"
  },
  "orig_nbformat": 4
 },
 "nbformat": 4,
 "nbformat_minor": 2
}
