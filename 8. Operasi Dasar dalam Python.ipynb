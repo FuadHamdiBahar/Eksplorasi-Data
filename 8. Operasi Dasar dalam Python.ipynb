{
 "cells": [
  {
   "cell_type": "code",
   "execution_count": 2,
   "metadata": {},
   "outputs": [
    {
     "name": "stdout",
     "output_type": "stream",
     "text": [
      "15\n",
      "5.0\n",
      "False\n",
      "False\n"
     ]
    }
   ],
   "source": [
    "a = 10\n",
    "b = 5\n",
    "\n",
    "jumlah = a + b #jumlah = 15\n",
    "print(jumlah)\n",
    "jumlah /= 3 #jumlah = 5\n",
    "print(jumlah)\n",
    "jumlah > 10 # False, karena jumlah = 5\n",
    "print(jumlah > 10)\n",
    "\n",
    "large = True\n",
    "wide = False\n",
    "cek = large and wide # True and False are False\n",
    "print(cek)"
   ]
  }
 ],
 "metadata": {
  "kernelspec": {
   "display_name": "Python 3",
   "language": "python",
   "name": "python3"
  },
  "language_info": {
   "codemirror_mode": {
    "name": "ipython",
    "version": 3
   },
   "file_extension": ".py",
   "mimetype": "text/x-python",
   "name": "python",
   "nbconvert_exporter": "python",
   "pygments_lexer": "ipython3",
   "version": "3.10.9"
  },
  "orig_nbformat": 4
 },
 "nbformat": 4,
 "nbformat_minor": 2
}
