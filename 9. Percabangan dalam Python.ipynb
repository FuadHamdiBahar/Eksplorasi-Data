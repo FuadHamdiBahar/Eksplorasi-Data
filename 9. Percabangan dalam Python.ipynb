{
 "cells": [
  {
   "cell_type": "code",
   "execution_count": 2,
   "metadata": {},
   "outputs": [
    {
     "name": "stdout",
     "output_type": "stream",
     "text": [
      "sepeda motor\n",
      "sepeda motor\n"
     ]
    }
   ],
   "source": [
    "ban = 2\n",
    "mesin = True\n",
    "\n",
    "# Percabangan if, tidak menghasilkan apa-apa\n",
    "# karena tidak memenuhi kondisi ban > 3\n",
    "if ban > 3:\n",
    "    print(\"mobil\")\n",
    "    \n",
    "# Percabangan if/else\n",
    "if ban > 3:\n",
    "    print(\"mobil\")\n",
    "else:\n",
    "    print(\"sepeda motor\")\n",
    "    \n",
    "# Nested if   \n",
    "if ban > 3:\n",
    "    print(\"mobil\")\n",
    "else:\n",
    "    if (mesin):\n",
    "        print(\"sepeda motor\")\n",
    "    else:\n",
    "        print(\"sepeda\")"
   ]
  }
 ],
 "metadata": {
  "kernelspec": {
   "display_name": "Python 3",
   "language": "python",
   "name": "python3"
  },
  "language_info": {
   "codemirror_mode": {
    "name": "ipython",
    "version": 3
   },
   "file_extension": ".py",
   "mimetype": "text/x-python",
   "name": "python",
   "nbconvert_exporter": "python",
   "pygments_lexer": "ipython3",
   "version": "3.10.9"
  },
  "orig_nbformat": 4
 },
 "nbformat": 4,
 "nbformat_minor": 2
}
