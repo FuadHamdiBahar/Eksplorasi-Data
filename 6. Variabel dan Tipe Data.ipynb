{
 "cells": [
  {
   "cell_type": "code",
   "execution_count": 1,
   "metadata": {},
   "outputs": [],
   "source": [
    "# cara menulis variabel\n",
    "tinggi = 192"
   ]
  },
  {
   "cell_type": "code",
   "execution_count": 2,
   "metadata": {},
   "outputs": [],
   "source": [
    "# Bilangan bulat\n",
    "berat = 60\n",
    "\n",
    "# Bilangan desimal\n",
    "tinggi = 162.5\n",
    "\n",
    "# Teks\n",
    "nama = \"Fuad\"\n",
    "\n",
    "# Boolean\n",
    "student = True"
   ]
  },
  {
   "cell_type": "code",
   "execution_count": 3,
   "metadata": {},
   "outputs": [],
   "source": [
    "# Data list\n",
    "daftar_nama = ['fuad', 'fadlan', 'fairuzy']\n",
    "\n",
    "# Data tuple\n",
    "daftar_nama = ('fuad', 'fadlan', 'fairuzy')\n",
    "\n",
    "# Data dict\n",
    "daftar_nama = {'pertama': 'fuad', 'kedua': 'fadlan'}\n"
   ]
  },
  {
   "cell_type": "code",
   "execution_count": 4,
   "metadata": {},
   "outputs": [
    {
     "name": "stdout",
     "output_type": "stream",
     "text": [
      "<class 'int'>\n",
      "<class 'str'>\n"
     ]
    }
   ],
   "source": [
    "# mengecek tipe data\n",
    "a = 10\n",
    "print(type(a))\n",
    "\n",
    "a = 'sepuluh'\n",
    "print(type(a))"
   ]
  }
 ],
 "metadata": {
  "kernelspec": {
   "display_name": "Python 3",
   "language": "python",
   "name": "python3"
  },
  "language_info": {
   "codemirror_mode": {
    "name": "ipython",
    "version": 3
   },
   "file_extension": ".py",
   "mimetype": "text/x-python",
   "name": "python",
   "nbconvert_exporter": "python",
   "pygments_lexer": "ipython3",
   "version": "3.10.9"
  },
  "orig_nbformat": 4
 },
 "nbformat": 4,
 "nbformat_minor": 2
}
