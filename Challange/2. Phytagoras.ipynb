{
 "cells": [
  {
   "cell_type": "code",
   "execution_count": null,
   "metadata": {},
   "outputs": [],
   "source": [
    "# Check the documentation below about math library\n",
    "# https://docs.python.org/3/library/math.html\n",
    "\n",
    "import math\n",
    "\n",
    "a = int(input('Masukkan nilai a: '))\n",
    "b = int(input('Masukkan nilai b: '))\n",
    "\n",
    "c = math.sqrt\n"
   ]
  }
 ],
 "metadata": {
  "kernelspec": {
   "display_name": "Python 3",
   "language": "python",
   "name": "python3"
  },
  "language_info": {
   "name": "python",
   "version": "3.10.9"
  },
  "orig_nbformat": 4
 },
 "nbformat": 4,
 "nbformat_minor": 2
}
