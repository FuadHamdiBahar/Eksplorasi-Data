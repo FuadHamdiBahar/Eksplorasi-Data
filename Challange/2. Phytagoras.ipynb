{
 "cells": [
  {
   "cell_type": "code",
   "execution_count": 5,
   "metadata": {},
   "outputs": [
    {
     "name": "stdout",
     "output_type": "stream",
     "text": [
      "Panjang sisi c : 20.0\n"
     ]
    }
   ],
   "source": [
    "# Check the documentation below about math library\n",
    "# https://docs.python.org/3/library/math.html\n",
    "\n",
    "import math\n",
    "\n",
    "a = int(input('Masukkan nilai a: '))\n",
    "b = int(input('Masukkan nilai b: '))\n",
    "\n",
    "c = math.sqrt(math.pow(a, 2) + math.pow(b, 2))\n",
    "print(\"Panjang sisi c :\", c)"
   ]
  },
  {
   "cell_type": "code",
   "execution_count": null,
   "metadata": {},
   "outputs": [],
   "source": [
    "# You can test your work by entering the following\n",
    "# a, b = 6, 8 and c = 10\n",
    "# a, b = 9, 12 and c = 15\n",
    "# a, b = 12, 16 and c = 20"
   ]
  }
 ],
 "metadata": {
  "kernelspec": {
   "display_name": "Python 3",
   "language": "python",
   "name": "python3"
  },
  "language_info": {
   "codemirror_mode": {
    "name": "ipython",
    "version": 3
   },
   "file_extension": ".py",
   "mimetype": "text/x-python",
   "name": "python",
   "nbconvert_exporter": "python",
   "pygments_lexer": "ipython3",
   "version": "3.10.9"
  },
  "orig_nbformat": 4
 },
 "nbformat": 4,
 "nbformat_minor": 2
}
