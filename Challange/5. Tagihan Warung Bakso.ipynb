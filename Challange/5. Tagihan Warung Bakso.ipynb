{
 "cells": [
  {
   "attachments": {},
   "cell_type": "markdown",
   "metadata": {},
   "source": [
    "# Tagihan Warung Bakso"
   ]
  },
  {
   "cell_type": "code",
   "execution_count": 7,
   "metadata": {},
   "outputs": [],
   "source": [
    "# bakso = 15.000\n",
    "# pangsit = 13.000\n",
    "# es teh = 5.000"
   ]
  },
  {
   "cell_type": "code",
   "execution_count": 8,
   "metadata": {},
   "outputs": [
    {
     "name": "stdout",
     "output_type": "stream",
     "text": [
      "Total biaya: Rp. 58000\n"
     ]
    }
   ],
   "source": [
    "def menghitung_total(nb, np, net):\n",
    "    return (nb * 15000) + (np * 13000) + (net * 5000)\n",
    "\n",
    "nb = int(input(\"Banyaknya mangkok bakso: \"))\n",
    "np = int(input(\"Banyaknya mangkok pangsit: \"))\n",
    "net = int(input(\"Banyaknya gelas es teh: \"))\n",
    "\n",
    "total = menghitung_total(nb, np, net)\n",
    "print(f'Total biaya: Rp. {total}'.format(total))"
   ]
  }
 ],
 "metadata": {
  "kernelspec": {
   "display_name": "Python 3",
   "language": "python",
   "name": "python3"
  },
  "language_info": {
   "codemirror_mode": {
    "name": "ipython",
    "version": 3
   },
   "file_extension": ".py",
   "mimetype": "text/x-python",
   "name": "python",
   "nbconvert_exporter": "python",
   "pygments_lexer": "ipython3",
   "version": "3.10.9"
  },
  "orig_nbformat": 4
 },
 "nbformat": 4,
 "nbformat_minor": 2
}
