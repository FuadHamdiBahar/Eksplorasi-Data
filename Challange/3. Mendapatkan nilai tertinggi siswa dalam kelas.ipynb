{
 "cells": [
  {
   "cell_type": "code",
   "execution_count": 1,
   "metadata": {},
   "outputs": [
    {
     "name": "stdout",
     "output_type": "stream",
     "text": [
      "Deret nilai siswa: [3, 1, 2, 4, 5]\n",
      "Nilai tertinggi adalah: 5\n"
     ]
    }
   ],
   "source": [
    "n = int(input(\"Masukkan jumlah siswa: \"))\n",
    "\n",
    "data = []\n",
    "for i in range(n):\n",
    "    data.append(int(input(f\"Masukkan nilai siswa ke-{i}\")))\n",
    "\n",
    "# diasumsikan nilai tertinggi adalah 0\n",
    "# karena nilai siswa tidak mungkin dibawah 0\n",
    "max = 0\n",
    "for i in data:\n",
    "    if i > max:\n",
    "        max = i\n",
    "\n",
    "print(\"Deret nilai siswa:\", data)\n",
    "print(\"Nilai tertinggi adalah:\", max)"
   ]
  }
 ],
 "metadata": {
  "kernelspec": {
   "display_name": "Python 3",
   "language": "python",
   "name": "python3"
  },
  "language_info": {
   "codemirror_mode": {
    "name": "ipython",
    "version": 3
   },
   "file_extension": ".py",
   "mimetype": "text/x-python",
   "name": "python",
   "nbconvert_exporter": "python",
   "pygments_lexer": "ipython3",
   "version": "3.10.9"
  },
  "orig_nbformat": 4
 },
 "nbformat": 4,
 "nbformat_minor": 2
}
