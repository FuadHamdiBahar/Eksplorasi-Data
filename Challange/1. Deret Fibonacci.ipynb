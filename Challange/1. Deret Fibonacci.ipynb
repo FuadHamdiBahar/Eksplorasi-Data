{
 "cells": [
  {
   "cell_type": "code",
   "execution_count": 29,
   "metadata": {},
   "outputs": [],
   "source": [
    "n = int(input())\n",
    "\n",
    "a = 0\n",
    "b = 1\n",
    "for i in range(n):\n",
    "    print(a, end=\" \")\n",
    "    temp = b\n",
    "    b = a + b\n",
    "    a = temp"
   ]
  }
 ],
 "metadata": {
  "language_info": {
   "name": "python"
  },
  "orig_nbformat": 4
 },
 "nbformat": 4,
 "nbformat_minor": 2
}
