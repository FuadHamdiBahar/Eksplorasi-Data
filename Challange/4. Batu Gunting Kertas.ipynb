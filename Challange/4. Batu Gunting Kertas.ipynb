{
 "cells": [
  {
   "cell_type": "code",
   "execution_count": null,
   "metadata": {},
   "outputs": [],
   "source": [
    "# GUNTING BATU KETAS\n",
    "# BATU MENANG MELAWAN GUNTING\n",
    "# KERTAS MENANG MELAWAN BATU\n",
    "# GUNTING MENANG MELAWAN KERTAS\n",
    "# JIKA SAMA BERARTI SERI\n",
    "\n",
    "# Fuad dan Hamdi sedang bermain gunting batu kertas, tentukanlah pemenang berdasarkan\n",
    "# bentuk tangan keduanya"
   ]
  },
  {
   "cell_type": "code",
   "execution_count": 4,
   "metadata": {},
   "outputs": [
    {
     "name": "stdout",
     "output_type": "stream",
     "text": [
      "Pertandingan dimenangkan oleh hamdi!\n"
     ]
    }
   ],
   "source": [
    "fuad = input('Bentuk tangan fuad: ').upper()\n",
    "hamdi = input('Bentuk tangan hamdi: ').upper()\n",
    "\n",
    "if fuad == 'BATU':\n",
    "    if hamdi == 'BATU':\n",
    "        print('Pertandingan seri!')\n",
    "    elif hamdi == 'GUNTING':\n",
    "        print('Pertandingan dimenangkan oleh fuad!')\n",
    "    else:\n",
    "        print('Pertandingan dimenangkan oleh hamdi!')\n",
    "elif fuad == 'KERTAS':\n",
    "    if hamdi == 'KERTAS':\n",
    "        print('Pertandingan seri!')\n",
    "    elif hamdi == 'BATU':\n",
    "        print('Pertandingan dimenangkan oleh fuad!')\n",
    "    else:\n",
    "        print('Pertandingan dimenangkan oleh hamdi!')\n",
    "else:\n",
    "    if hamdi == 'GUNTING':\n",
    "        print('Pertandingan seri!')\n",
    "    elif hamdi == 'KERTAS':\n",
    "        print('Pertandingan dimenangkan oleh fuad!')\n",
    "    else:\n",
    "        print('Pertandingan dimenangkan oleh hamdi!')"
   ]
  },
  {
   "cell_type": "code",
   "execution_count": null,
   "metadata": {},
   "outputs": [],
   "source": []
  }
 ],
 "metadata": {
  "kernelspec": {
   "display_name": "Python 3",
   "language": "python",
   "name": "python3"
  },
  "language_info": {
   "codemirror_mode": {
    "name": "ipython",
    "version": 3
   },
   "file_extension": ".py",
   "mimetype": "text/x-python",
   "name": "python",
   "nbconvert_exporter": "python",
   "pygments_lexer": "ipython3",
   "version": "3.10.9"
  },
  "orig_nbformat": 4
 },
 "nbformat": 4,
 "nbformat_minor": 2
}
