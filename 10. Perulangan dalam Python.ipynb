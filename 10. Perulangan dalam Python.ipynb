{
 "cells": [
  {
   "cell_type": "code",
   "execution_count": 2,
   "metadata": {},
   "outputs": [
    {
     "name": "stdout",
     "output_type": "stream",
     "text": [
      "Jumlah seluruh angka dalam list:  45\n"
     ]
    }
   ],
   "source": [
    "data = [10, 2, 5, 7, 21]\n",
    "\n",
    "jumlah = 0\n",
    "for i in data:\n",
    "    jumlah += i\n",
    "print(\"Jumlah seluruh angka dalam list: \", jumlah)"
   ]
  },
  {
   "cell_type": "code",
   "execution_count": 5,
   "metadata": {},
   "outputs": [
    {
     "name": "stdout",
     "output_type": "stream",
     "text": [
      "b ditambah sebanyak 24 kali\n"
     ]
    }
   ],
   "source": [
    "\n",
    "a = 250\n",
    "b = 15\n",
    "n = 0\n",
    "while(b < a):\n",
    "    b += 10\n",
    "    n += 1\n",
    "\n",
    "print(\"b ditambah sebanyak\", n, \"kali\")"
   ]
  },
  {
   "cell_type": "code",
   "execution_count": 7,
   "metadata": {},
   "outputs": [
    {
     "name": "stdout",
     "output_type": "stream",
     "text": [
      "1\n",
      "2\n",
      "3\n",
      "4\n"
     ]
    }
   ],
   "source": [
    "a = [[1,2],[3,4]]\n",
    "\n",
    "for i in a:\n",
    "    for j in i:\n",
    "        print(j)"
   ]
  }
 ],
 "metadata": {
  "kernelspec": {
   "display_name": "Python 3",
   "language": "python",
   "name": "python3"
  },
  "language_info": {
   "codemirror_mode": {
    "name": "ipython",
    "version": 3
   },
   "file_extension": ".py",
   "mimetype": "text/x-python",
   "name": "python",
   "nbconvert_exporter": "python",
   "pygments_lexer": "ipython3",
   "version": "3.10.9"
  },
  "orig_nbformat": 4
 },
 "nbformat": 4,
 "nbformat_minor": 2
}
