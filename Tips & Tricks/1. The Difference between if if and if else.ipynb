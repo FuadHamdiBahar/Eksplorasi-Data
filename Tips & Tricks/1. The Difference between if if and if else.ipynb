{
 "cells": [
  {
   "cell_type": "code",
   "execution_count": 1,
   "metadata": {},
   "outputs": [
    {
     "name": "stdout",
     "output_type": "stream",
     "text": [
      "Fuad adalah mahasiswa laki-laki.\n"
     ]
    }
   ],
   "source": [
    "gender = \"male\"\n",
    "\n",
    "if gender == \"male\":\n",
    "    print(\"Fuad adalah mahasiswa laki-laki.\")\n",
    "else:\n",
    "    print(\"Fuad adalah mahasiswa perempuan\")"
   ]
  },
  {
   "cell_type": "code",
   "execution_count": 6,
   "metadata": {},
   "outputs": [],
   "source": [
    "# memenuhi 1 kondisi\n",
    "angka = 10 \n",
    "# memenuhi kedua kondisi\n",
    "angka = 8\n",
    "# tidak memenuhi kedua kondisi\n",
    "angka = 5\n",
    "\n",
    "if angka % 2 == 0:\n",
    "    print(angka, 'dapat dibagi dengan 2')\n",
    "\n",
    "if angka % 4 == 0:\n",
    "    print(angka, 'dapat dibagi dengan 4')"
   ]
  }
 ],
 "metadata": {
  "kernelspec": {
   "display_name": "Python 3",
   "language": "python",
   "name": "python3"
  },
  "language_info": {
   "codemirror_mode": {
    "name": "ipython",
    "version": 3
   },
   "file_extension": ".py",
   "mimetype": "text/x-python",
   "name": "python",
   "nbconvert_exporter": "python",
   "pygments_lexer": "ipython3",
   "version": "3.10.9"
  },
  "orig_nbformat": 4
 },
 "nbformat": 4,
 "nbformat_minor": 2
}
