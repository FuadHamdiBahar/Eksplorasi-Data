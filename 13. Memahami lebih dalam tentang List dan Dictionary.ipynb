{
 "cells": [
  {
   "cell_type": "code",
   "execution_count": 17,
   "metadata": {},
   "outputs": [
    {
     "name": "stdout",
     "output_type": "stream",
     "text": [
      "{'tinggi': 170, 'nama': 'fuad', 'student': True}\n"
     ]
    }
   ],
   "source": [
    "listData = [170, 'fuad', True]\n",
    "dictData = {\n",
    "    'tinggi': 170,\n",
    "    'nama': 'fuad',\n",
    "    'student': True\n",
    "}\n",
    "\n",
    "print(dictData)"
   ]
  },
  {
   "cell_type": "code",
   "execution_count": 18,
   "metadata": {},
   "outputs": [
    {
     "name": "stdout",
     "output_type": "stream",
     "text": [
      "[170, 'fuad', True]\n",
      "[175, True, 'data baru']\n"
     ]
    }
   ],
   "source": [
    "listData = [170, 'fuad', True]\n",
    "print(listData)\n",
    "\n",
    "listData[0]\n",
    "listData.append('data baru')\n",
    "listData[0] = 175\n",
    "listData.remove('fuad')\n",
    "print(listData) "
   ]
  },
  {
   "cell_type": "code",
   "execution_count": 19,
   "metadata": {},
   "outputs": [
    {
     "name": "stdout",
     "output_type": "stream",
     "text": [
      "{'tinggi': 170, 'nama': 'fuad', 'student': True}\n",
      "{'tinggi': 175, 'student': True, 'databaru': 'databaru'}\n"
     ]
    }
   ],
   "source": [
    "dictData = {\n",
    "    'tinggi': 170,\n",
    "    'nama': 'fuad',\n",
    "    'student': True\n",
    "}\n",
    "print(dictData)\n",
    "\n",
    "dictData['tinggi']\n",
    "dictData['databaru'] = 'databaru'\n",
    "dictData.update({'tinggi': 175})\n",
    "dictData.pop('nama')\n",
    "print(dictData)\n"
   ]
  }
 ],
 "metadata": {
  "kernelspec": {
   "display_name": "Python 3",
   "language": "python",
   "name": "python3"
  },
  "language_info": {
   "codemirror_mode": {
    "name": "ipython",
    "version": 3
   },
   "file_extension": ".py",
   "mimetype": "text/x-python",
   "name": "python",
   "nbconvert_exporter": "python",
   "pygments_lexer": "ipython3",
   "version": "3.10.9"
  },
  "orig_nbformat": 4
 },
 "nbformat": 4,
 "nbformat_minor": 2
}
